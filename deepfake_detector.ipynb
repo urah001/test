{
  "cells": [
    {
      "cell_type": "markdown",
      "metadata": {
        "id": "c_-riBbMMIOY"
      },
      "source": [
        "## step 1\n",
        "mount your google drive and get link the video to the colab"
      ]
    },
    {
      "cell_type": "code",
      "execution_count": 1,
      "metadata": {
        "colab": {
          "base_uri": "https://localhost:8080/"
        },
        "collapsed": true,
        "id": "MFesq0LMUsAq",
        "outputId": "928345d7-26f0-46e8-f6ac-da4df8168642"
      },
      "outputs": [
        {
          "output_type": "stream",
          "name": "stdout",
          "text": [
            "Mounted at /content/drive\n"
          ]
        }
      ],
      "source": [
        "from google.colab import drive\n",
        "drive.mount('/content/drive')\n"
      ]
    },
    {
      "cell_type": "markdown",
      "metadata": {
        "id": "3o4Bq6IiU9kI"
      },
      "source": [
        "## step\n",
        "to access the video"
      ]
    },
    {
      "cell_type": "code",
      "execution_count": 2,
      "metadata": {
        "id": "5pUib_1QVFKL"
      },
      "outputs": [],
      "source": [
        "video_dir = \"/content/drive/MyDrive/deepFakeDetector/testProject\"\n"
      ]
    },
    {
      "cell_type": "markdown",
      "metadata": {
        "id": "CC2Cqp3uVQvz"
      },
      "source": [
        "## step\n",
        "extract the frames from the video and upload those frames in a colab file\n"
      ]
    },
    {
      "cell_type": "code",
      "execution_count": 3,
      "metadata": {
        "id": "6EV8TUqgVV6Z"
      },
      "outputs": [],
      "source": [
        "import cv2\n",
        "import os\n",
        "\n",
        "def extract_frames(video_path, output_dir, label):\n",
        "    os.makedirs(os.path.join(output_dir, label), exist_ok=True)\n",
        "    cap = cv2.VideoCapture(video_path)\n",
        "    count = 0\n",
        "\n",
        "    while cap.isOpened():\n",
        "        ret, frame = cap.read()\n",
        "        if not ret or count > 10:  # extract only 10 frames to keep it small\n",
        "            break\n",
        "        frame_path = os.path.join(output_dir, label, f\"{os.path.basename(video_path)}_frame{count}.jpg\")\n",
        "        cv2.imwrite(frame_path, frame)\n",
        "        count += 1\n",
        "    cap.release()\n",
        "\n",
        "# Process all videos\n",
        "root_video_dir = \"/content/drive/MyDrive/deepFakeDetector/projectTest\"\n",
        "output_dir = \"/deepFakeDetecor/frames\"\n",
        "\n",
        "for folder in os.listdir(root_video_dir):\n",
        "    label = \"real\" if \"real\" in folder.lower() else \"fake\"\n",
        "    folder_path = os.path.join(root_video_dir, folder)\n",
        "    if os.path.isdir(folder_path):\n",
        "        for video_file in os.listdir(folder_path):\n",
        "            video_path = os.path.join(folder_path, video_file)\n",
        "            extract_frames(video_path, output_dir, label)\n",
        "\n"
      ]
    },
    {
      "cell_type": "markdown",
      "metadata": {
        "id": "XYU43buUTBZt"
      },
      "source": [
        "## step\n",
        "import pytorch and , setup dataloader and train a deepfake detection model\n"
      ]
    },
    {
      "cell_type": "code",
      "execution_count": 4,
      "metadata": {
        "colab": {
          "base_uri": "https://localhost:8080/"
        },
        "collapsed": true,
        "id": "E-BsaglPTUtv",
        "outputId": "be3841c6-cf75-4c96-a4c5-4e99b2ffeaba"
      },
      "outputs": [
        {
          "output_type": "stream",
          "name": "stdout",
          "text": [
            "Classes: ['fake', 'real']\n"
          ]
        },
        {
          "output_type": "stream",
          "name": "stderr",
          "text": [
            "/usr/local/lib/python3.11/dist-packages/torchvision/models/_utils.py:208: UserWarning: The parameter 'pretrained' is deprecated since 0.13 and may be removed in the future, please use 'weights' instead.\n",
            "  warnings.warn(\n",
            "/usr/local/lib/python3.11/dist-packages/torchvision/models/_utils.py:223: UserWarning: Arguments other than a weight enum or `None` for 'weights' are deprecated since 0.13 and may be removed in the future. The current behavior is equivalent to passing `weights=ResNet18_Weights.IMAGENET1K_V1`. You can also use `weights=ResNet18_Weights.DEFAULT` to get the most up-to-date weights.\n",
            "  warnings.warn(msg)\n",
            "Downloading: \"https://download.pytorch.org/models/resnet18-f37072fd.pth\" to /root/.cache/torch/hub/checkpoints/resnet18-f37072fd.pth\n",
            "100%|██████████| 44.7M/44.7M [00:00<00:00, 144MB/s]\n"
          ]
        },
        {
          "output_type": "stream",
          "name": "stdout",
          "text": [
            "Epoch 1, Loss: 46.8536, Accuracy: 70.05%\n",
            "Epoch 2, Loss: 30.8436, Accuracy: 63.64%\n",
            "Epoch 3, Loss: 29.9129, Accuracy: 65.24%\n",
            "Epoch 4, Loss: 25.4372, Accuracy: 68.98%\n",
            "Epoch 5, Loss: 25.9523, Accuracy: 72.73%\n",
            "Model saved as deepfake_model.pth\n"
          ]
        }
      ],
      "source": [
        "import torch\n",
        "import torch.nn as nn\n",
        "import torch.optim as optim\n",
        "from torchvision import datasets, models, transforms\n",
        "from torch.utils.data import DataLoader\n",
        "import os\n",
        "\n",
        "# Path to the frames saved in the google colab\n",
        "data_dir = \"/deepFakeDetecor/frames\"\n",
        "\n",
        "# Transform the images\n",
        "transform = transforms.Compose([\n",
        "    transforms.Resize((224, 224)),\n",
        "    transforms.ToTensor(),\n",
        "])\n",
        "\n",
        "# Load dataset\n",
        "dataset = datasets.ImageFolder(data_dir, transform=transform)\n",
        "dataloader = DataLoader(dataset, batch_size=4, shuffle=True)\n",
        "\n",
        "class_names = dataset.classes\n",
        "print(\"Classes:\", class_names)\n",
        "\n",
        "# Load pretrained model\n",
        "model = models.resnet18(pretrained=True)\n",
        "num_ftrs = model.fc.in_features\n",
        "model.fc = nn.Linear(num_ftrs, 2)  # 2 classes: real, fake\n",
        "\n",
        "device = torch.device(\"cuda\" if torch.cuda.is_available() else \"cpu\")\n",
        "model = model.to(device)\n",
        "\n",
        "# Loss and optimizer\n",
        "criterion = nn.CrossEntropyLoss()\n",
        "optimizer = optim.Adam(model.parameters(), lr=0.001)\n",
        "\n",
        "# Train the model\n",
        "for epoch in range(5):  # You can increase this\n",
        "    running_loss = 0.0\n",
        "    correct = 0\n",
        "    total = 0\n",
        "\n",
        "    for inputs, labels in dataloader:\n",
        "        inputs, labels = inputs.to(device), labels.to(device)\n",
        "\n",
        "        optimizer.zero_grad()\n",
        "        outputs = model(inputs)\n",
        "        loss = criterion(outputs, labels)\n",
        "        loss.backward()\n",
        "        optimizer.step()\n",
        "\n",
        "        running_loss += loss.item()\n",
        "        _, predicted = torch.max(outputs.data, 1)\n",
        "        total += labels.size(0)\n",
        "        correct += (predicted == labels).sum().item()\n",
        "\n",
        "    print(f\"Epoch {epoch+1}, Loss: {running_loss:.4f}, Accuracy: {100 * correct / total:.2f}%\")\n",
        "\n",
        "# Save model\n",
        "torch.save(model.state_dict(), \"deepfake_model.pth\")\n",
        "print(\"Model saved as deepfake_model.pth\")\n"
      ]
    },
    {
      "cell_type": "markdown",
      "metadata": {
        "id": "GLw_E1ZRYmDc"
      },
      "source": [
        "## step\n",
        "- Prediction Function : this is used after training to test any single frame."
      ]
    },
    {
      "cell_type": "code",
      "execution_count": 5,
      "metadata": {
        "colab": {
          "base_uri": "https://localhost:8080/"
        },
        "id": "m3qIMazfY0rA",
        "outputId": "b69db68b-f652-4dfe-af2d-790f560165ed"
      },
      "outputs": [
        {
          "output_type": "stream",
          "name": "stdout",
          "text": [
            "real\n"
          ]
        }
      ],
      "source": [
        "from PIL import Image\n",
        "\n",
        "def predict_image(image_path):\n",
        "    img = Image.open(image_path).convert('RGB')\n",
        "    img_tensor = transform(img).unsqueeze(0).to(device)\n",
        "    model.eval()\n",
        "    with torch.no_grad():\n",
        "        output = model(img_tensor)\n",
        "        _, predicted = torch.max(output, 1)\n",
        "        return class_names[predicted.item()]\n",
        "\n",
        "# Example usage\n",
        "print(predict_image(\"/deepFakeDetecor/frames/real/id0_0004.mp4_frame6.jpg\"))\n",
        "# real image for real id5 frame10 doesnt detect well , the model thinks its a fake image\n"
      ]
    }
  ],
  "metadata": {
    "colab": {
      "provenance": [],
      "toc_visible": true,
      "authorship_tag": "ABX9TyOaRm81SpCighgVerj8ghns"
    },
    "kernelspec": {
      "display_name": "Python 3",
      "name": "python3"
    },
    "language_info": {
      "name": "python"
    }
  },
  "nbformat": 4,
  "nbformat_minor": 0
}